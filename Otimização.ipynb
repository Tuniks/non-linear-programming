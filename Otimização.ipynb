{
 "cells": [
  {
   "cell_type": "code",
   "execution_count": 124,
   "metadata": {
    "scrolled": true
   },
   "outputs": [
    {
     "name": "stdout",
     "output_type": "stream",
     "text": [
      "Usando o método de minimização gradiente with the search method armijo\n"
     ]
    },
    {
     "data": {
      "text/html": [
       "<table><tr><td>X0</td><td>Iter.</td><td>Search Iter.</td><td>X Opt.</td><td>Opt. Value</td><td>Error</td></tr><tr><td>[-1.8385400365595483, 4.359940932133885]</td><td>37</td><td>19</td><td>[-1.9816636407159987, 4.250195021564859]</td><td>-1.9999999999999978</td><td>-2.220446049250313e-15</td></tr><tr><td>[8.928601514360016, 3.3197980530117723]</td><td>51</td><td>26</td><td>[8.906470368326048, 3.4323421048746736]</td><td>-1.9999999999999774</td><td>-2.2648549702353193e-14</td></tr><tr><td>[0.7630828937395717, 7.7991879224011464]</td><td>492</td><td>24</td><td>[0.8862266473483452, 7.674950315095602]</td><td>-1.99999999999975</td><td>-2.5002222514558525e-13</td></tr><tr><td>[0.5623534090613251, 4.536183806757618]</td><td>209</td><td>19</td><td>[0.8862268421315791, 4.604970191073439]</td><td>-1.9999999999999758</td><td>-2.4202861936828413e-14</td></tr><tr><td>[0.10374153885699955, 5.018745921487388]</td><td>190</td><td>19</td><td>[0.886227012482084, 4.604970191469733]</td><td>-1.9999999999999734</td><td>-2.6645352591003757e-14</td></tr></table>"
      ],
      "text/plain": [
       "<IPython.core.display.HTML object>"
      ]
     },
     "metadata": {},
     "output_type": "display_data"
    },
    {
     "name": "stdout",
     "output_type": "stream",
     "text": [
      "Usando o método de minimização gradiente with the search method aurea\n"
     ]
    },
    {
     "data": {
      "text/html": [
       "<table><tr><td>X0</td><td>Iter.</td><td>Search Iter.</td><td>X Opt.</td><td>Opt. Value</td><td>Error</td></tr><tr><td>[-1.8385400365595483, 4.359940932133885]</td><td>32</td><td>1</td><td>[-1.9816636301001327, 4.250195028506188]</td><td>-1.999999999999994</td><td>-5.995204332975845e-15</td></tr><tr><td>[8.928601514360016, 3.3197980530117723]</td><td>49</td><td>1</td><td>[8.906470369974187, 3.432342112723027]</td><td>-1.999999999999992</td><td>-7.993605777301127e-15</td></tr><tr><td>[0.7630828937395717, 7.7991879224011464]</td><td>248</td><td>1</td><td>[0.8862266239781644, 7.674950310933431]</td><td>-1.999999999999714</td><td>-2.859934511434403e-13</td></tr><tr><td>[0.5623534090613251, 4.536183806757618]</td><td>194</td><td>1</td><td>[0.886226821453492, 4.604970181960542]</td><td>-1.999999999999965</td><td>-3.5083047578154947e-14</td></tr><tr><td>[0.10374153885699955, 5.018745921487388]</td><td>133</td><td>1</td><td>[0.8862270707483276, 5.242989192153612]</td><td>-1.9999999999999312</td><td>-6.88338275267597e-14</td></tr></table>"
      ],
      "text/plain": [
       "<IPython.core.display.HTML object>"
      ]
     },
     "metadata": {},
     "output_type": "display_data"
    },
    {
     "name": "stdout",
     "output_type": "stream",
     "text": [
      "([0.7630828937395717, 7.7991879224011464], 'initial hess not pos def')\n",
      "([0.10374153885699955, 5.018745921487388], 'initial hess not pos def')\n",
      "Usando o método de minimização newton with the search method armijo\n"
     ]
    },
    {
     "data": {
      "text/html": [
       "<table><tr><td>X0</td><td>Iter.</td><td>Search Iter.</td><td>X Opt.</td><td>Opt. Value</td><td>Error</td></tr><tr><td>[-1.8385400365595483, 4.359940932133885]</td><td>5</td><td>0</td><td>[-1.9816636488030057, 4.250195025894849]</td><td>-2.0</td><td>0.0</td></tr><tr><td>[8.928601514360016, 3.3197980530117723]</td><td>5</td><td>0</td><td>[8.906470372888593, 3.432342123239133]</td><td>-2.0</td><td>0.0</td></tr><tr><td>[0.7630828937395717, 7.7991879224011464]</td><td>0</td><td>0</td><td>[0.7630828937395717, 7.7991879224011464]</td><td>0.6747782211720822</td><td>-2.6747782211720823</td></tr><tr><td>[0.5623534090613251, 4.536183806757618]</td><td>5</td><td>0</td><td>[0.8862269254527572, 4.604970185759198]</td><td>-2.0</td><td>0.0</td></tr><tr><td>[0.10374153885699955, 5.018745921487388]</td><td>0</td><td>0</td><td>[0.10374153885699955, 5.018745921487388]</td><td>0.9535412823416378</td><td>-2.9535412823416376</td></tr></table>"
      ],
      "text/plain": [
       "<IPython.core.display.HTML object>"
      ]
     },
     "metadata": {},
     "output_type": "display_data"
    },
    {
     "name": "stdout",
     "output_type": "stream",
     "text": [
      "([0.7630828937395717, 7.7991879224011464], 'initial hess not pos def')\n",
      "([0.10374153885699955, 5.018745921487388], 'initial hess not pos def')\n",
      "Usando o método de minimização newton with the search method aurea\n"
     ]
    },
    {
     "data": {
      "text/html": [
       "<table><tr><td>X0</td><td>Iter.</td><td>Search Iter.</td><td>X Opt.</td><td>Opt. Value</td><td>Error</td></tr><tr><td>[-1.8385400365595483, 4.359940932133885]</td><td>14</td><td>1</td><td>[-1.9816636579485287, 4.250195037321147]</td><td>-1.9999999999999893</td><td>-1.0658141036401503e-14</td></tr><tr><td>[8.928601514360016, 3.3197980530117723]</td><td>14</td><td>1</td><td>[8.906470369359976, 3.432342129688861]</td><td>-1.999999999999994</td><td>-5.995204332975845e-15</td></tr><tr><td>[0.7630828937395717, 7.7991879224011464]</td><td>0</td><td>0</td><td>[0.7630828937395717, 7.7991879224011464]</td><td>0.6747782211720822</td><td>-2.6747782211720823</td></tr><tr><td>[0.5623534090613251, 4.536183806757618]</td><td>15</td><td>1</td><td>[0.8862269120195889, 4.604970191007048]</td><td>-1.9999999999999971</td><td>-2.886579864025407e-15</td></tr><tr><td>[0.10374153885699955, 5.018745921487388]</td><td>0</td><td>0</td><td>[0.10374153885699955, 5.018745921487388]</td><td>0.9535412823416378</td><td>-2.9535412823416376</td></tr></table>"
      ],
      "text/plain": [
       "<IPython.core.display.HTML object>"
      ]
     },
     "metadata": {},
     "output_type": "display_data"
    },
    {
     "name": "stdout",
     "output_type": "stream",
     "text": [
      "Usando o método de minimização quase newton with the search method armijo\n"
     ]
    },
    {
     "data": {
      "text/html": [
       "<table><tr><td>X0</td><td>Iter.</td><td>Search Iter.</td><td>X Opt.</td><td>Opt. Value</td><td>Error</td></tr><tr><td>[-1.8385400365595483, 4.359940932133885]</td><td>7</td><td>0</td><td>[-1.9816624509873528, 4.25019405201015]</td><td>-1.999999999908931</td><td>-9.106893017474249e-11</td></tr><tr><td>[8.928601514360016, 3.3197980530117723]</td><td>7</td><td>0</td><td>[8.906470318519741, 3.4323422029006263]</td><td>-1.999999999998763</td><td>-1.2370104940373494e-12</td></tr><tr><td>[0.7630828937395717, 7.7991879224011464]</td><td>8</td><td>0</td><td>[0.8862269117344291, 7.67495029531456]</td><td>-1.9999999999999514</td><td>-4.8627768478581856e-14</td></tr><tr><td>[0.5623534090613251, 4.536183806757618]</td><td>7</td><td>0</td><td>[0.8862287346816514, 4.604970103673372]</td><td>-1.9999999999891451</td><td>-1.085487255636508e-11</td></tr><tr><td>[0.10374153885699955, 5.018745921487388]</td><td>11</td><td>0</td><td>[0.8862270435486842, 5.81137863244338]</td><td>-1.9999999999996156</td><td>-3.843592111252292e-13</td></tr></table>"
      ],
      "text/plain": [
       "<IPython.core.display.HTML object>"
      ]
     },
     "metadata": {},
     "output_type": "display_data"
    },
    {
     "name": "stdout",
     "output_type": "stream",
     "text": [
      "Usando o método de minimização quase newton with the search method aurea\n"
     ]
    },
    {
     "data": {
      "text/html": [
       "<table><tr><td>X0</td><td>Iter.</td><td>Search Iter.</td><td>X Opt.</td><td>Opt. Value</td><td>Error</td></tr><tr><td>[-1.8385400365595483, 4.359940932133885]</td><td>8</td><td>1</td><td>[-1.9816604660037758, 4.250174318811837]</td><td>-1.9999999688585905</td><td>-3.114140945115196e-08</td></tr><tr><td>[8.928601514360016, 3.3197980530117723]</td><td>8</td><td>1</td><td>[8.90645064444408, 3.4323512379640753]</td><td>-1.999999872588146</td><td>-1.2741185395626076e-07</td></tr><tr><td>[0.7630828937395717, 7.7991879224011464]</td><td>9</td><td>1</td><td>[0.886220029505756, 7.674949288969182]</td><td>-1.9999999996051645</td><td>-3.948354976301971e-10</td></tr><tr><td>[0.5623534090613251, 4.536183806757618]</td><td>9</td><td>1</td><td>[0.8862407325822685, 4.604967652994412]</td><td>-1.9999999988569568</td><td>-1.1430432156345205e-09</td></tr><tr><td>[0.10374153885699955, 5.018745921487388]</td><td>10</td><td>1</td><td>[0.8862115353261343, 5.243005271543596]</td><td>-1.9999999708439322</td><td>-2.9156067782309947e-08</td></tr></table>"
      ],
      "text/plain": [
       "<IPython.core.display.HTML object>"
      ]
     },
     "metadata": {},
     "output_type": "display_data"
    }
   ],
   "source": [
    "from mpl_toolkits.mplot3d import Axes3D  \n",
    "# Axes3D import has side effects, it enables using projection='3d' in add_subplot\n",
    "import matplotlib.pyplot as plt\n",
    "import numpy as np\n",
    "import random\n",
    "from IPython.display import HTML, display\n",
    "\n",
    "def getFunction(x):\n",
    "    a = x[0]\n",
    "    b = x[1]\n",
    "    r = np.sin(a**2 - b**2) + np.cos(a**2 + b**2)\n",
    "    return r\n",
    "\n",
    "def is_pos_def(x):\n",
    "    if np.array_equal(x, x.T):\n",
    "        try:\n",
    "            np.linalg.cholesky(x)\n",
    "            return True\n",
    "        except np.linalg.LinAlgError:\n",
    "            return False\n",
    "    else:\n",
    "        return False\n",
    "\n",
    "def getGradient(x):\n",
    "    a = x[0]\n",
    "    b = x[1]\n",
    "    r0 = 2*a*(np.cos(a**2 - b**2) - np.sin(a**2 + b**2))\n",
    "    r1 = -2*b*(np.cos(a**2 - b**2) + np.sin(a**2 + b**2))\n",
    "    r = np.array([[r0], \n",
    "                 [r1]])\n",
    "    return r\n",
    "\n",
    "def getHessian(x):\n",
    "    a = x[0]\n",
    "    b = x[1]\n",
    "    r0 = -2*(2*a**2*np.sin(a**2 - b**2) + np.sin(a**2 + b**2) + 2*a**2*np.cos(a**2 + b**2) - np.cos(a**2 - b**2))\n",
    "    r1 = 4*a*b*(np.sin(a**2 - b**2) - np.cos(a**2 + b**2))\n",
    "    r2 = 4*a*b*(np.sin(a**2 - b**2) - np.cos(a**2 + b**2))\n",
    "    r3 = -2*(2*b**2*np.sin(a**2 - b**2) + np.sin(a**2 + b**2) + 2*b**2*np.cos(a**2 + b**2) + np.cos(a**2 - b**2))\n",
    "    r = np.array([[r0, r1], [r2, r3]])\n",
    "    return r\n",
    "\n",
    "def armijo(x, d):\n",
    "    y = 0.8\n",
    "    n = 0.25\n",
    "    t = 1\n",
    "    \n",
    "    gradient = getGradient(x)\n",
    "    num_calls = 0\n",
    "    while getFunction([x[0] + t*d[0,0], x[1] + t*d[1,0]]) > getFunction(x) + n * t * (gradient.transpose().dot(d)):\n",
    "        t = y*t\n",
    "        num_calls += 1\n",
    "    \n",
    "    return t, num_calls\n",
    "\n",
    "def auxAurea(x, d, t):\n",
    "    return getFunction([x[0] + t*d[0,0], x[1] + t*d[1,0]])\n",
    "    \n",
    "def aurea(x, d):\n",
    "    e = 0.001\n",
    "    p = 0.001\n",
    "    teta1 = (3 - 5**(1/2))/2\n",
    "    teta2 = 1 - teta1\n",
    "    \n",
    "    # Obtendo Intervalo [a,b]\n",
    "    a = 0\n",
    "    s = p\n",
    "    b = 2*p\n",
    "    while auxAurea(x, d, b) < auxAurea(x, d, s):\n",
    "        a = s\n",
    "        s = b\n",
    "        b = 2*b\n",
    "        \n",
    "    # Obtendo t em [a,b]\n",
    "    u = a + teta1 * (b - a)\n",
    "    v = a + teta2 * (b - a)\n",
    "    num_calls = 0\n",
    "    while (b - a) > e:\n",
    "        if auxAurea(x, d, u) < auxAurea(x, d, v):\n",
    "            b = v\n",
    "            v = u\n",
    "            u = a + teta1 * (b - a)\n",
    "        else:\n",
    "            a = u\n",
    "            u = v\n",
    "            v = a + teta2 * (b - a)\n",
    "        num_calls += 1\n",
    "    \n",
    "    return (u + v)/2, num_calls\n",
    "\n",
    "def inverseMatrix(x):\n",
    "    a,b,c,d = x\n",
    "    det = a * d - b * c\n",
    "    x[0] = d/det\n",
    "    x[1] = -1*b/det\n",
    "    x[2] = -1*c/det\n",
    "    x[3] = a/det\n",
    "    return\n",
    "\n",
    "def minGradient(xi, search):\n",
    "    it = 0\n",
    "    x = xi\n",
    "    grad = getGradient(x)\n",
    "    p = np.array([[10**10], \n",
    "                 [10**10]])\n",
    "    sum_num_calls = 0\n",
    "    while (it < 1000 \n",
    "           and (abs(grad[0,0]) > 10**-15 or abs(grad[1,0]) > 10**-15)\n",
    "           and (abs(p[0,0]) > 10**-8 or abs(p[1,0]) > 10**-8)):\n",
    "            d = np.array([[-1 * grad[0,0]], \n",
    "                          [-1 * grad[1,0]]])\n",
    "            t, num_calls = search(x, d)\n",
    "            sum_num_calls += num_calls\n",
    "            x0 = x\n",
    "            x = [x[0] + t*d[0,0], x[1] + t*d[1,0]]\n",
    "            p = np.array([[x[0] - x0[0], x[1] - x0[1]]]).transpose()\n",
    "            it = it+1\n",
    "            grad = getGradient(x)\n",
    "    \n",
    "    return x, it, sum_num_calls\n",
    "\n",
    "def minNewton(xi, search):\n",
    "    it = 0\n",
    "    x = xi\n",
    "    d = [0,0]\n",
    "    grad = getGradient(x)\n",
    "    p = np.array([[10**10], \n",
    "                 [10**10]])\n",
    "    sum_num_calls = 0\n",
    "    while (it < 1000 \n",
    "           and (abs(grad[0,0]) > 10**-15 or abs(grad[1,0]) > 10**-15)\n",
    "           and (abs(p[0,0]) > 10**-10 or abs(p[1,0]) > 10**-10)):\n",
    "            hess = getHessian(x)\n",
    "            if (is_pos_def(hess)):\n",
    "                invhess = np.linalg.inv(hess) \n",
    "                grad = getGradient(x)\n",
    "                d = -1*invhess.dot(grad)\n",
    "                t, num_calls = search(x, d)\n",
    "                sum_num_calls += num_calls\n",
    "                x0 = x\n",
    "                x = [x[0] + t*d[0,0], x[1] + t*d[1,0]]\n",
    "                p = np.array([[x[0] - x0[0], x[1] - x0[1]]]).transpose()\n",
    "                it = it+1\n",
    "            else:\n",
    "                if (it == 0):\n",
    "                    print(xi, 'initial hess not pos def')\n",
    "                break\n",
    "    \n",
    "    return x, it, sum_num_calls\n",
    "\n",
    "def minQuasiNewton(xi, search):\n",
    "    it = 0\n",
    "    x = xi\n",
    "    d = [0,0]\n",
    "    h = np.array([[1,0],[0,1]])\n",
    "    gradx0 = getGradient(x)\n",
    "    q = np.array([[10**10], \n",
    "                 [10**10]])\n",
    "    p = np.array([[10**10], \n",
    "                 [10**10]])\n",
    "    sum_num_calls = 0\n",
    "    while (it < 1000 \n",
    "           and (abs(gradx0[0,0]) > 10**-15 or abs(gradx0[1,0]) > 10**-15)\n",
    "          and (abs(p[0,0]) > 10**-4 or abs(p[1,0]) > 10**-4)):\n",
    "            d = -1*(h.dot(gradx0))\n",
    "            t, num_calls = search(x, d)\n",
    "            sum_num_calls += num_calls\n",
    "            x0 = x\n",
    "            x = [x[0] + t*d[0,0], x[1] + t*d[1,0]]\n",
    "            p = np.array([[x[0] - x0[0], x[1] - x0[1]]]).transpose()\n",
    "            gradx = getGradient(x)\n",
    "            q = gradx - gradx0\n",
    "            gradx0 = gradx\n",
    "            part1 = ((q.transpose().dot(h)).dot(q))[0,0] / ((p.transpose()).dot(q))[0,0]\n",
    "            part2 = p.dot(p.transpose()) / (p.transpose().dot(q))[0,0]\n",
    "            part3 = ((p.dot(q.transpose())).dot(h) + h.dot(q).dot(p.transpose())) / ((p.transpose()).dot(q))[0,0]\n",
    "            h = h + ((1 + part1)* part2) - part3\n",
    "            it = it+1\n",
    "    \n",
    "    return x, it, sum_num_calls\n",
    "\n",
    "def getResults(x, minimize, search):\n",
    "    r, i, num_calls = minimize(x, search)\n",
    "    m = getFunction(r)\n",
    "    return [x, i, num_calls, r, m, -2-m]\n",
    "        \n",
    "\n",
    "        \n",
    "        \n",
    "xo_list = [\n",
    "    [-1.8385400365595483, 4.359940932133885], \n",
    "    [8.928601514360016, 3.3197980530117723], \n",
    "    [0.7630828937395717, 7.7991879224011464], \n",
    "    [0.5623534090613251, 4.536183806757618], \n",
    "    [0.10374153885699955, 5.018745921487388]]\n",
    "# i = 0 \n",
    "# while i < 15:\n",
    "#     xo_list.append([random.uniform(-10.0, 10.0),random.uniform(-10.0, 10.0)])\n",
    "#     i+=1\n",
    "minimization_methods = [minGradient, minNewton, minQuasiNewton]\n",
    "minimization_names = [\"gradiente\", \"newton\", \"quase newton\"]\n",
    "search_methods = [armijo, aurea]\n",
    "search_names = [\"armijo\", \"aurea\"]\n",
    "\n",
    "for method in minimization_methods:\n",
    "    for search in search_methods:\n",
    "        data = [[\"X0\", \"Iter.\", \"Search Iter.\", \"X Opt.\", \"Opt. Value\", \"Error\"]]\n",
    "        for xo in xo_list:\n",
    "            data.append(getResults(xo, method, search))\n",
    "            \n",
    "        print(\"Usando o método de minimização %s with the search method %s\" %(minimization_names[minimization_methods.index(method)], search_names[search_methods.index(search)]))\n",
    "        display(HTML('<table><tr>{}</tr></table>'.format(\n",
    "           '</tr><tr>'.join(\n",
    "               '<td>{}</td>'.format('</td><td>'.join(str(_) for _ in row)) for row in data)\n",
    "        )))\n",
    "            \n",
    "        \n",
    "# data = [[\"X0\", \"Iter.\", \"Search Iter.\", \"X Opt.\", \"Opt. Value\", \"Error\"],\n",
    "#          [\"Sun\",696000,1989100000],\n",
    "#          [\"Earth\",6371,5973.6],\n",
    "#          [\"Moon\",1737,73.5],\n",
    "#          [\"Mars\",3390,641.85]]\n",
    "\n",
    "\n",
    "# display(HTML('<table><tr>{}</tr></table>'.format(\n",
    "#        '</tr><tr>'.join(\n",
    "#            '<td>{}</td>'.format('</td><td>'.join(str(_) for _ in row)) for row in data)\n",
    "#        )))\n"
   ]
  },
  {
   "cell_type": "code",
   "execution_count": null,
   "metadata": {},
   "outputs": [],
   "source": [
    "fig = plt.figure()\n",
    "ax = fig.add_subplot(111, projection='3d')\n",
    "x = y = np.arange(-3.0, 3.0, 0.05)\n",
    "X, Y = np.meshgrid(x, y)\n",
    "zs = np.array(getFunction([np.ravel(X), np.ravel(Y)]))\n",
    "Z = zs.reshape(X.shape)\n",
    "\n",
    "ax.plot_surface(X, Y, Z)\n",
    "\n",
    "ax.set_xlabel('X Label')\n",
    "ax.set_ylabel('Y Label')\n",
    "ax.set_zlabel('Z Label')\n",
    "\n",
    "plt.show()"
   ]
  },
  {
   "cell_type": "code",
   "execution_count": null,
   "metadata": {},
   "outputs": [],
   "source": []
  }
 ],
 "metadata": {
  "kernelspec": {
   "display_name": "Python 2",
   "language": "python",
   "name": "python2"
  },
  "language_info": {
   "codemirror_mode": {
    "name": "ipython",
    "version": 2
   },
   "file_extension": ".py",
   "mimetype": "text/x-python",
   "name": "python",
   "nbconvert_exporter": "python",
   "pygments_lexer": "ipython2",
   "version": "2.7.16"
  }
 },
 "nbformat": 4,
 "nbformat_minor": 2
}
